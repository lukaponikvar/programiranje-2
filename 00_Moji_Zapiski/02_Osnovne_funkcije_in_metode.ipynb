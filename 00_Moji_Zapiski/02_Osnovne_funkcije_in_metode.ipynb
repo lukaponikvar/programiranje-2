{
 "cells": [
  {
   "cell_type": "markdown",
   "metadata": {},
   "source": [
    "# Funkcije"
   ]
  },
  {
   "cell_type": "markdown",
   "metadata": {},
   "source": [
    "The `fn` keyword allows you to declare new functions.\n",
    "- snake case\n",
    "- can be defined anywhere (before or after)"
   ]
  },
  {
   "cell_type": "markdown",
   "metadata": {},
   "source": [
    "- can have `parameters` (special variables that are part of a function’s signature)\n",
    "- the concrete values are called `arguments`"
   ]
  },
  {
   "cell_type": "markdown",
   "metadata": {},
   "source": [
    "### Statements and Expressions"
   ]
  },
  {
   "cell_type": "markdown",
   "metadata": {},
   "source": [
    "- `Statements` are instructions that perform some action and do not return a value.\n",
    "- `Expressions` evaluate to a resultant value."
   ]
  },
  {
   "cell_type": "code",
   "execution_count": null,
   "metadata": {
    "vscode": {
     "languageId": "rust"
    }
   },
   "outputs": [],
   "source": [
    "println!(\"\");"
   ]
  },
  {
   "cell_type": "markdown",
   "metadata": {},
   "source": [
    "## Constants\n"
   ]
  },
  {
   "cell_type": "markdown",
   "metadata": {},
   "source": [
    "- always immutable\n",
    "- can be declared in any scope\n",
    "- may be set only to a constant expression, not the result of a value that could only be computed at runtime."
   ]
  },
  {
   "cell_type": "code",
   "execution_count": null,
   "metadata": {
    "vscode": {
     "languageId": "rust"
    }
   },
   "outputs": [],
   "source": [
    "const THREE_HOURS_IN_SECONDS: u32 = 60 * 60 * 3;"
   ]
  },
  {
   "cell_type": "markdown",
   "metadata": {},
   "source": [
    "# Data types\n"
   ]
  },
  {
   "cell_type": "markdown",
   "metadata": {},
   "source": [
    "- Scalar type\n",
    "- Compound type\n"
   ]
  },
  {
   "cell_type": "markdown",
   "metadata": {},
   "source": [
    "## Scalar type"
   ]
  },
  {
   "cell_type": "markdown",
   "metadata": {},
   "source": [
    "A `scalar` type represents a single value:\n",
    "\n",
    "- integers\n",
    "- floating-point numbers\n",
    "- Booleans\n",
    "- characters "
   ]
  },
  {
   "cell_type": "markdown",
   "metadata": {},
   "source": [
    "### Integers\n"
   ]
  },
  {
   "cell_type": "markdown",
   "metadata": {},
   "source": [
    "| Length    | Signed|Unsigned|\n",
    "| --------  | ----- | ----- |\n",
    "|8-bit\t    |i8\t    |u8     |\n",
    "|16-bit\t    |i16    |u16    |\n",
    "|32-bit\t    |i32    |u32    |\n",
    "|64-bit\t    |i64    |u64    |\n",
    "|128-bit\t|i128\t|u128   |\n",
    "|arch    \t|isize\t|usize   |"
   ]
  },
  {
   "cell_type": "markdown",
   "metadata": {},
   "source": [
    "Each variant can be either signed or unsigned and has an explicit size. Signed and unsigned refer to whether it’s possible for the number to be negative. \n",
    "\n",
    "Each signed variant can store numbers from $-(2^{n-1})$ to $2^{n - 1} - 1$ inclusive. Unsigned variants can store numbers from $0$ to $2^{n} - 1$.\n",
    "\n",
    "Additionally, the isize and usize types depend on the architecture of the computer your program is running on, which is denoted in the table as “arch”: 64 bits if you’re on a 64-bit architecture and 32 bits if you’re on a 32-bit architecture."
   ]
  },
  {
   "cell_type": "markdown",
   "metadata": {},
   "source": [
    "You can write integer literals in any of the forms shown in the table:\n",
    "\n",
    "|Number literals\t|Example        |\n",
    "|-------------------|---------------|\n",
    "|Decimal\t        |98_222         |\n",
    "|Hex\t            |0xff           |\n",
    "|Octal\t            |0o77           |\n",
    "|Binary\t            |0b1111_0000    |\n",
    "|Byte(u8 only)      |b'A'           |"
   ]
  },
  {
   "cell_type": "markdown",
   "metadata": {},
   "source": [
    "### Floating-Point types"
   ]
  },
  {
   "cell_type": "markdown",
   "metadata": {
    "vscode": {
     "languageId": "rust"
    }
   },
   "source": [
    "Rust’s floating-point types are `f32` and `f64`. All floating-point types are signed."
   ]
  },
  {
   "cell_type": "code",
   "execution_count": null,
   "metadata": {
    "vscode": {
     "languageId": "rust"
    }
   },
   "outputs": [],
   "source": [
    "let guess: u32 = guess.trim()\n",
    "                        .parse()\n",
    "                        .expect(\"Please type a number!\");\n"
   ]
  },
  {
   "cell_type": "markdown",
   "metadata": {},
   "source": [
    "### The Boolean type"
   ]
  },
  {
   "cell_type": "markdown",
   "metadata": {},
   "source": [
    "A Boolean type in Rust has two possible values: `true` and `false`."
   ]
  },
  {
   "cell_type": "markdown",
   "metadata": {
    "vscode": {
     "languageId": "rust"
    }
   },
   "source": [
    "### The Character type"
   ]
  },
  {
   "cell_type": "markdown",
   "metadata": {},
   "source": [
    "Rust’s char type is the language’s most primitive alphabetic type.\n",
    "\n"
   ]
  },
  {
   "cell_type": "code",
   "execution_count": null,
   "metadata": {
    "vscode": {
     "languageId": "rust"
    }
   },
   "outputs": [],
   "source": [
    "let z: char = 'Z';"
   ]
  },
  {
   "cell_type": "markdown",
   "metadata": {},
   "source": [
    "## Compound types\n"
   ]
  },
  {
   "cell_type": "markdown",
   "metadata": {},
   "source": [
    "Rust has two primitive `compound types`: \n",
    "- tuples\n",
    "- arrays."
   ]
  },
  {
   "cell_type": "markdown",
   "metadata": {},
   "source": [
    "### Tuple type\n"
   ]
  },
  {
   "cell_type": "markdown",
   "metadata": {},
   "source": [
    "- way of grouping together a number of values with a variety of types into one compound type\n",
    "- `fixed length`"
   ]
  },
  {
   "cell_type": "code",
   "execution_count": null,
   "metadata": {
    "vscode": {
     "languageId": "rust"
    }
   },
   "outputs": [],
   "source": [
    "let tup: (i32, f64, u8) = (500, 6.4, 1);\n",
    "let (x, y, z) = tup; // destructuring \n",
    "println!(\"The value of y is: {y} or {}\", tup.1);\n",
    "\n"
   ]
  },
  {
   "cell_type": "markdown",
   "metadata": {},
   "source": [
    "`unit : ()`"
   ]
  },
  {
   "cell_type": "markdown",
   "metadata": {},
   "source": [
    "### Array type"
   ]
  },
  {
   "cell_type": "markdown",
   "metadata": {},
   "source": [
    "- every element of an array must have the same type\n",
    "- `fixed length`\n",
    "- oh the stack"
   ]
  },
  {
   "cell_type": "code",
   "execution_count": null,
   "metadata": {
    "vscode": {
     "languageId": "rust"
    }
   },
   "outputs": [],
   "source": [
    "let a: [i32; 5] = [1, 2, 3, 4, 5];\n",
    "let b = [3; 5];\n",
    "let months: [&str; 12] = [\"January\", \"February\", \"March\", \"April\", \"May\", \"June\", \"July\",\n",
    "              \"August\", \"September\", \"October\", \"November\", \"December\"];\n",
    "println!(\"{:?}\", b);\n",
    "println!(\"{}\", months[1]);"
   ]
  },
  {
   "cell_type": "code",
   "execution_count": 10,
   "metadata": {
    "vscode": {
     "languageId": "rust"
    }
   },
   "outputs": [
    {
     "data": {
      "text/plain": [
       "()"
      ]
     },
     "execution_count": 10,
     "metadata": {},
     "output_type": "execute_result"
    }
   ],
   "source": [
    "{\n",
    "let a = [1, 2, 3, 4, 5];\n",
    "let slice = &a[1..3];\n",
    "assert_eq!(slice, &[2, 3])\n",
    "}"
   ]
  },
  {
   "cell_type": "markdown",
   "metadata": {},
   "source": [
    "### Box\n"
   ]
  },
  {
   "cell_type": "code",
   "execution_count": null,
   "metadata": {
    "vscode": {
     "languageId": "rust"
    }
   },
   "outputs": [],
   "source": [
    "Box::new(5);"
   ]
  },
  {
   "cell_type": "markdown",
   "metadata": {},
   "source": [
    "### str"
   ]
  },
  {
   "cell_type": "markdown",
   "metadata": {},
   "source": [
    "The type of s here is &str: it’s a slice pointing to that specific point of the binary. This is also why string literals are immutable; &str is an immutable reference."
   ]
  },
  {
   "cell_type": "code",
   "execution_count": null,
   "metadata": {
    "vscode": {
     "languageId": "rust"
    }
   },
   "outputs": [],
   "source": [
    "fn return_a_string() -> &'static str {\n",
    "    \"Hello world\"    \n",
    "}\n",
    "return_a_string()"
   ]
  },
  {
   "cell_type": "code",
   "execution_count": null,
   "metadata": {
    "vscode": {
     "languageId": "rust"
    }
   },
   "outputs": [],
   "source": [
    "fn return_a_string(output: &mut String) {\n",
    "    output.replace_range(.., \"Hello world\");\n",
    "}\n",
    "let mut x = String::from(\"Anabarbara hahahaha\");\n",
    "println!(\"{x}\");\n",
    "return_a_string(&mut x);\n",
    "println!(\"{x}\");"
   ]
  },
  {
   "cell_type": "markdown",
   "metadata": {},
   "source": [
    "### String\n"
   ]
  },
  {
   "cell_type": "code",
   "execution_count": null,
   "metadata": {
    "vscode": {
     "languageId": "rust"
    }
   },
   "outputs": [],
   "source": [
    "String::new()   // associated function \n",
    "    \t        // (function implemented on a type)\n",
    "\n",
    ".trim() // will eliminate any whitespace at the beginning and end\n",
    "\n",
    ".parse() // converts a string to another type\n",
    "\n",
    ".push_str(\"neki\") // doda na konec"
   ]
  },
  {
   "cell_type": "code",
   "execution_count": null,
   "metadata": {
    "vscode": {
     "languageId": "rust"
    }
   },
   "outputs": [],
   "source": [
    "fn main() {\n",
    "    let first = String::from(\"Ferris\");\n",
    "    let full = add_suffix(first);\n",
    "    println!(\"{full}\");\n",
    "}\n",
    "\n",
    "fn add_suffix(mut name: String) -> String {\n",
    "    name.push_str(\" Jr.\");\n",
    "    name\n",
    "}"
   ]
  },
  {
   "cell_type": "code",
   "execution_count": 12,
   "metadata": {
    "vscode": {
     "languageId": "rust"
    }
   },
   "outputs": [
    {
     "name": "stdout",
     "output_type": "stream",
     "text": [
      "&String=8 &str=16\n"
     ]
    }
   ],
   "source": [
    "println!(\n",
    "    \"&String={} &str={}\",\n",
    "    std::mem::size_of::<&String>(),\n",
    "    std::mem::size_of::<&str>(),\n",
    "  );"
   ]
  },
  {
   "cell_type": "markdown",
   "metadata": {},
   "source": [
    "### Vector\n"
   ]
  },
  {
   "cell_type": "code",
   "execution_count": null,
   "metadata": {
    "vscode": {
     "languageId": "rust"
    }
   },
   "outputs": [],
   "source": [
    "let mut v: Vec<i32> = vec![1, 2, 3];\n",
    "v.push(4);"
   ]
  },
  {
   "cell_type": "markdown",
   "metadata": {},
   "source": [
    "### HashMap"
   ]
  },
  {
   "cell_type": "markdown",
   "metadata": {},
   "source": [
    "## Libraries"
   ]
  },
  {
   "cell_type": "markdown",
   "metadata": {},
   "source": [
    "\n",
    "### IO = input/output"
   ]
  },
  {
   "cell_type": "code",
   "execution_count": null,
   "metadata": {
    "vscode": {
     "languageId": "rust"
    }
   },
   "outputs": [],
   "source": [
    "use std::io;\n",
    "\n",
    "io::stdin()  // returns an instance of std::io::Stdin\n",
    "    .read_line(&mut guess) // returns a Result value\n",
    "    .expect(\"Failed to read line\"); // metoda na Result instance"
   ]
  },
  {
   "cell_type": "markdown",
   "metadata": {},
   "source": [
    "### cmp\n"
   ]
  },
  {
   "cell_type": "code",
   "execution_count": null,
   "metadata": {
    "vscode": {
     "languageId": "rust"
    }
   },
   "outputs": [],
   "source": [
    "use std::cmp::Ordering;\n",
    "\n",
    "match guess.cmp(&secret_number) {\n",
    "    Ordering::Less => println!(\"Too small!\"),\n",
    "    Ordering::Greater => println!(\"Too big!\"),\n",
    "    Ordering::Equal => println!(\"You win!\"),\n",
    "}"
   ]
  },
  {
   "cell_type": "markdown",
   "metadata": {},
   "source": [
    "The Ordering type is another enum and has the variants Less, Greater, and Equal."
   ]
  },
  {
   "cell_type": "code",
   "execution_count": 18,
   "metadata": {
    "vscode": {
     "languageId": "rust"
    }
   },
   "outputs": [
    {
     "data": {
      "text/plain": [
       "()"
      ]
     },
     "execution_count": 18,
     "metadata": {},
     "output_type": "execute_result"
    }
   ],
   "source": [
    "struct User {\n",
    "    active: bool,\n",
    "    username: String,\n",
    "    email: String,\n",
    "    sign_in_count: u64,\n",
    "}\n",
    "\n",
    "fn main() {\n",
    "    // --snip--\n",
    "    let user1 = User {\n",
    "        email: String::from(\"someone@example.com\"),\n",
    "        username: String::from(\"someusername123\"),\n",
    "        active: true,\n",
    "        sign_in_count: 1,\n",
    "    };\n",
    "\n",
    "    let user2 = User {\n",
    "        email: String::from(\"another@example.com\"),\n",
    "        ..user1\n",
    "    };\n",
    "}\n",
    "main()"
   ]
  }
 ],
 "metadata": {
  "kernelspec": {
   "display_name": "Rust",
   "language": "rust",
   "name": "rust"
  },
  "language_info": {
   "codemirror_mode": "rust",
   "file_extension": ".rs",
   "mimetype": "text/rust",
   "name": "Rust",
   "pygment_lexer": "rust",
   "version": ""
  }
 },
 "nbformat": 4,
 "nbformat_minor": 2
}
