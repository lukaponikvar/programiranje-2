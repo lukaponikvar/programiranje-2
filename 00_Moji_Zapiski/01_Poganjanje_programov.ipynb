{
 "cells": [
  {
   "cell_type": "markdown",
   "metadata": {},
   "source": [
    "# Files"
   ]
  },
  {
   "cell_type": "markdown",
   "metadata": {
    "vscode": {
     "languageId": "rust"
    }
   },
   "source": [
    "You compile a source file by typing in\n",
    "\n",
    "`rustc name_of_source_file`\n",
    "\n",
    "To run it you type\n",
    "\n",
    "`./name_of_source_file or \\name_of_source_file.exe`"
   ]
  },
  {
   "cell_type": "markdown",
   "metadata": {},
   "source": [
    "# Cargo\n"
   ]
  },
  {
   "cell_type": "markdown",
   "metadata": {},
   "source": [
    "We call the libraries that your code needs dependencies"
   ]
  },
  {
   "cell_type": "markdown",
   "metadata": {},
   "source": [
    "`cargo new`\n",
    "`cargo build`\n",
    "`cargo run`\n",
    "`cargo check`"
   ]
  }
 ],
 "metadata": {
  "language_info": {
   "name": "python"
  }
 },
 "nbformat": 4,
 "nbformat_minor": 2
}
