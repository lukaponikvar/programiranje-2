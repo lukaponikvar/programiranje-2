{
 "cells": [
  {
   "cell_type": "markdown",
   "metadata": {},
   "source": [
    "# Control flow"
   ]
  },
  {
   "cell_type": "markdown",
   "metadata": {},
   "source": [
    "- if expressions\n",
    "- loops"
   ]
  },
  {
   "cell_type": "markdown",
   "metadata": {},
   "source": [
    "## If expressions"
   ]
  },
  {
   "cell_type": "markdown",
   "metadata": {},
   "source": [
    "Blocks of code associated with the conditions in if expressions are sometimes called `arms`."
   ]
  },
  {
   "cell_type": "code",
   "execution_count": null,
   "metadata": {
    "vscode": {
     "languageId": "rust"
    }
   },
   "outputs": [],
   "source": [
    "if condition1 {\n",
    "    -- snip -- \n",
    "} else if condition2¸{\n",
    "    -- snip -- \n",
    "} else {\n",
    "    -- snip -- \n",
    "}\n",
    "\n",
    "\n",
    "let number = if condition { 5 } else { 6 };\n"
   ]
  },
  {
   "cell_type": "markdown",
   "metadata": {},
   "source": [
    "## Loops"
   ]
  },
  {
   "cell_type": "markdown",
   "metadata": {},
   "source": [
    "- loop\n",
    "- while\n",
    "- for"
   ]
  },
  {
   "cell_type": "markdown",
   "metadata": {},
   "source": [
    "### Loop"
   ]
  },
  {
   "cell_type": "code",
   "execution_count": 4,
   "metadata": {
    "vscode": {
     "languageId": "rust"
    }
   },
   "outputs": [
    {
     "name": "stdout",
     "output_type": "stream",
     "text": [
      "The result is 20\n"
     ]
    }
   ],
   "source": [
    "let mut counter = 0;\n",
    "\n",
    "let result = loop {\n",
    "    counter += 1;\n",
    "\n",
    "    if counter == 10 {\n",
    "        break counter * 2;\n",
    "    }\n",
    "};\n",
    "\n",
    "println!(\"The result is {result}\");"
   ]
  },
  {
   "cell_type": "code",
   "execution_count": 3,
   "metadata": {
    "vscode": {
     "languageId": "rust"
    }
   },
   "outputs": [
    {
     "name": "stdout",
     "output_type": "stream",
     "text": [
      "count = 0\n",
      "remaining = 10\n",
      "remaining = 9\n",
      "count = 1\n",
      "remaining = 10\n",
      "remaining = 9\n",
      "count = 2\n",
      "remaining = 10\n",
      "End count = 2\n"
     ]
    }
   ],
   "source": [
    "let mut count = 0;\n",
    "'counting_up: loop {\n",
    "    println!(\"count = {count}\");\n",
    "    let mut remaining = 10;\n",
    "\n",
    "    loop {\n",
    "        println!(\"remaining = {remaining}\");\n",
    "        if remaining == 9 {\n",
    "            break;\n",
    "        }\n",
    "        if count == 2 {\n",
    "            break 'counting_up;\n",
    "        }\n",
    "        remaining -= 1;\n",
    "    }\n",
    "\n",
    "    count += 1;\n",
    "}\n",
    "println!(\"End count = {count}\");"
   ]
  },
  {
   "cell_type": "markdown",
   "metadata": {},
   "source": [
    "### While\n"
   ]
  },
  {
   "cell_type": "code",
   "execution_count": 13,
   "metadata": {
    "vscode": {
     "languageId": "rust"
    }
   },
   "outputs": [
    {
     "name": "stdout",
     "output_type": "stream",
     "text": [
      "3!\n",
      "2!\n",
      "1!\n",
      "LIFTOFF!!!\n"
     ]
    }
   ],
   "source": [
    "let mut number = 3;\n",
    "\n",
    "'sexy: while number != 0 {\n",
    "    println!(\"{number}!\");\n",
    "    number -= 1;\n",
    "}\n",
    "\n",
    "println!(\"LIFTOFF!!!\");\n"
   ]
  },
  {
   "cell_type": "markdown",
   "metadata": {},
   "source": [
    "### For"
   ]
  },
  {
   "cell_type": "code",
   "execution_count": 17,
   "metadata": {
    "vscode": {
     "languageId": "rust"
    }
   },
   "outputs": [
    {
     "name": "stdout",
     "output_type": "stream",
     "text": [
      "the value is: 10\n",
      "the value is: 20\n",
      "the value is: 40\n",
      "the value is: 50\n"
     ]
    }
   ],
   "source": [
    "let a = [10, 20, 30, 40, 50];\n",
    "\n",
    "'name: for element in a {\n",
    "    if element == 30 {\n",
    "        continue 'name\n",
    "    }\n",
    "    println!(\"the value is: {element}\");\n",
    "};"
   ]
  },
  {
   "cell_type": "code",
   "execution_count": 20,
   "metadata": {
    "vscode": {
     "languageId": "rust"
    }
   },
   "outputs": [
    {
     "name": "stdout",
     "output_type": "stream",
     "text": [
      "3!\n"
     ]
    },
    {
     "name": "stdout",
     "output_type": "stream",
     "text": [
      "2!\n",
      "1!\n",
      "LIFTOFF!!!\n"
     ]
    }
   ],
   "source": [
    "for number in (1..4).rev() {\n",
    "    println!(\"{number}!\");\n",
    "}\n",
    "println!(\"LIFTOFF!!!\");"
   ]
  },
  {
   "cell_type": "markdown",
   "metadata": {},
   "source": [
    "# Match"
   ]
  },
  {
   "cell_type": "markdown",
   "metadata": {},
   "source": [
    "A `match` expression is made up of `arms`. An arm consists of a pattern to match against, and the code that should be run if the value given to match fits that arm’s pattern."
   ]
  }
 ],
 "metadata": {
  "kernelspec": {
   "display_name": "Rust",
   "language": "rust",
   "name": "rust"
  },
  "language_info": {
   "codemirror_mode": "rust",
   "file_extension": ".rs",
   "mimetype": "text/rust",
   "name": "Rust",
   "pygment_lexer": "rust",
   "version": ""
  }
 },
 "nbformat": 4,
 "nbformat_minor": 2
}
